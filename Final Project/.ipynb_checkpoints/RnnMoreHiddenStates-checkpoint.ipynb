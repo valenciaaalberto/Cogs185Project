{
 "cells": [
  {
   "cell_type": "code",
   "execution_count": 2,
   "metadata": {
    "ExecuteTime": {
     "end_time": "2019-05-14T23:57:20.051203Z",
     "start_time": "2019-05-14T23:57:19.626384Z"
    }
   },
   "outputs": [],
   "source": [
    "import string\n",
    "import random\n",
    "import torch\n",
    "import torch.nn as nn\n",
    "import matplotlib.pyplot as plt\n",
    "import numpy as np"
   ]
  },
  {
   "cell_type": "markdown",
   "metadata": {},
   "source": [
    "#### Prepare for Dataset"
   ]
  },
  {
   "cell_type": "code",
   "execution_count": 3,
   "metadata": {
    "ExecuteTime": {
     "end_time": "2019-05-14T23:57:20.060842Z",
     "start_time": "2019-05-14T23:57:20.053165Z"
    }
   },
   "outputs": [
    {
     "name": "stdout",
     "output_type": "stream",
     "text": [
      "Length of file: 1115394\n",
      "All possible characters: 0123456789abcdefghijklmnopqrstuvwxyzABCDEFGHIJKLMNOPQRSTUVWXYZ!\"#$%&'()*+,-./:;<=>?@[\\]^_`{|}~ \t\n",
      "\r",
      "\u000b",
      "\f",
      "\n",
      "Number of all possible characters: 100\n"
     ]
    }
   ],
   "source": [
    "all_chars       = string.printable\n",
    "n_chars         = len(all_chars)\n",
    "file            = open('Data/shakespeare.txt').read()\n",
    "file_len        = len(file)\n",
    "\n",
    "print('Length of file: {}'.format(file_len))\n",
    "print('All possible characters: {}'.format(all_chars))\n",
    "print('Number of all possible characters: {}'.format(n_chars))"
   ]
  },
  {
   "cell_type": "code",
   "execution_count": 4,
   "metadata": {
    "ExecuteTime": {
     "end_time": "2019-05-14T23:57:20.077596Z",
     "start_time": "2019-05-14T23:57:20.064808Z"
    }
   },
   "outputs": [],
   "source": [
    "# Get a random sequence of the Shakespeare dataset.\n",
    "def get_random_seq():\n",
    "    seq_len     = 128  # The length of an input sequence.\n",
    "    start_index = random.randint(0, file_len - seq_len)\n",
    "    end_index   = start_index + seq_len + 1\n",
    "    return file[start_index:end_index]\n",
    "\n",
    "# Convert the sequence to one-hot tensor.\n",
    "def seq_to_onehot(seq):\n",
    "    tensor = torch.zeros(len(seq), 1, n_chars) \n",
    "    # Shape of the tensor:\n",
    "    #     (sequence length, batch size, classes)\n",
    "    # Here we use batch size = 1 and classes = number of unique characters.\n",
    "    for t, char in enumerate(seq):\n",
    "        index = all_chars.index(char)\n",
    "        tensor[t][0][index] = 1\n",
    "    return tensor\n",
    "\n",
    "# Convert the sequence to index tensor.\n",
    "def seq_to_index(seq):\n",
    "    tensor = torch.zeros(len(seq), 1)\n",
    "    # Shape of the tensor: \n",
    "    #     (sequence length, batch size).\n",
    "    # Here we use batch size = 1.\n",
    "    for t, char in enumerate(seq):\n",
    "        tensor[t] = all_chars.index(char)\n",
    "    return tensor\n",
    "\n",
    "# Sample a mini-batch including input tensor and target tensor.\n",
    "def get_input_and_target():\n",
    "    seq    = get_random_seq()\n",
    "    input  = seq_to_onehot(seq[:-1])      # Input is represented in one-hot.\n",
    "    target = seq_to_index(seq[1:]).long() # Target is represented in index.\n",
    "    return input, target"
   ]
  },
  {
   "cell_type": "markdown",
   "metadata": {},
   "source": [
    "#### Choose a Device"
   ]
  },
  {
   "cell_type": "code",
   "execution_count": 5,
   "metadata": {
    "ExecuteTime": {
     "end_time": "2019-05-14T23:57:20.129301Z",
     "start_time": "2019-05-14T23:57:20.081156Z"
    }
   },
   "outputs": [
    {
     "name": "stdout",
     "output_type": "stream",
     "text": [
      "cuda:0\n"
     ]
    }
   ],
   "source": [
    "# If there are GPUs, choose the first one for computing. Otherwise use CPU.\n",
    "device = torch.device(\"cuda:0\" if torch.cuda.is_available() else \"cpu\")\n",
    "print(device)  \n",
    "# If 'cuda:0' is printed, it means GPU is available."
   ]
  },
  {
   "cell_type": "markdown",
   "metadata": {},
   "source": [
    "#### Network Definition"
   ]
  },
  {
   "cell_type": "code",
   "execution_count": 6,
   "metadata": {
    "ExecuteTime": {
     "end_time": "2019-05-14T23:57:22.437344Z",
     "start_time": "2019-05-14T23:57:20.131573Z"
    }
   },
   "outputs": [
    {
     "data": {
      "text/plain": [
       "Net(\n",
       "  (hidden_layer): RNNCell(100, 100)\n",
       "  (output_layer): Linear(in_features=100, out_features=100, bias=True)\n",
       ")"
      ]
     },
     "execution_count": 6,
     "metadata": {},
     "output_type": "execute_result"
    }
   ],
   "source": [
    "class Net(nn.Module):\n",
    "    def __init__(self):\n",
    "        # Initialization.\n",
    "        super(Net, self).__init__()\n",
    "        self.input_size  = n_chars   # Input size: Number of unique chars.\n",
    "        self.hidden_size = 100       # Hidden size: 100.\n",
    "        self.output_size = n_chars   # Output size: Number of unique chars.\n",
    "        \n",
    "        self.hidden_layer = nn.RNNCell(self.input_size,self.hidden_size) \n",
    "        self.output_layer = nn.Linear(self.hidden_size,self.output_size)\n",
    "    \n",
    "    def forward(self, input, hidden):\n",
    "        \"\"\" Forward function.\n",
    "              input:  One-hot input. It refers to the x_t in homework write-up.\n",
    "              hidden: Previous hidden state. It refers to the h_{t-1}.\n",
    "            Returns (output, hidden) where output refers to y_t and \n",
    "                     hidden refers to h_t.\n",
    "        \"\"\"\n",
    "        # Forward function.\n",
    "        hidden = self.hidden_layer(input,hidden)\n",
    "        output = self.output_layer(hidden)\n",
    "        hidden = self.hidden_layer(input,hidden)\n",
    "        output = self.output_layer(hidden)\n",
    "        hidden = self.hidden_layer(input,hidden)\n",
    "        output = self.output_layer(hidden)\n",
    "        hidden = self.hidden_layer(input,hidden)\n",
    "        output = self.output_layer(hidden)\n",
    "\n",
    "        return output, hidden\n",
    "\n",
    "    def init_hidden(self):\n",
    "        # Initial hidden state.\n",
    "        # 1 means batch size = 1.\n",
    "        return torch.zeros(1, self.hidden_size).to(device) \n",
    "    \n",
    "net = Net()     # Create the network instance.\n",
    "net.to(device)  # Move the network parameters to the specified device."
   ]
  },
  {
   "cell_type": "markdown",
   "metadata": {},
   "source": [
    "#### Training Step and Evaluation Step"
   ]
  },
  {
   "cell_type": "code",
   "execution_count": 7,
   "metadata": {
    "ExecuteTime": {
     "end_time": "2019-05-14T23:57:22.449539Z",
     "start_time": "2019-05-14T23:57:22.440333Z"
    }
   },
   "outputs": [],
   "source": [
    "# Training step function.\n",
    "def train_step(net, opt, input, target):\n",
    "    \"\"\" Training step.\n",
    "        net:    The network instance.\n",
    "        opt:    The optimizer instance.\n",
    "        input:  Input tensor.  Shape: [seq_len, 1, n_chars].\n",
    "        target: Target tensor. Shape: [seq_len, 1].\n",
    "    \"\"\"\n",
    "    seq_len = input.shape[0]    # Get the sequence length of current input.\n",
    "    hidden = net.init_hidden()  # Initial hidden state.\n",
    "    net.zero_grad()             # Clear the gradient.\n",
    "    loss = 0                    # Initial loss.\n",
    "\n",
    "    for t in range(seq_len):    # For each one in the input sequence.\n",
    "        output, hidden = net(input[t], hidden)\n",
    "        loss += loss_func(output, target[t])\n",
    "\n",
    "    loss.backward()             # Backward. \n",
    "    opt.step()                  # Update the weights.\n",
    "\n",
    "    return loss / seq_len       # Return the average loss w.r.t sequence length."
   ]
  },
  {
   "cell_type": "code",
   "execution_count": 8,
   "metadata": {
    "ExecuteTime": {
     "end_time": "2019-05-15T03:10:36.378318Z",
     "start_time": "2019-05-15T03:10:36.366394Z"
    }
   },
   "outputs": [],
   "source": [
    "# Evaluation step function.\n",
    "def eval_step(net, init_seq='W', predicted_len=100):\n",
    "    # Initialize the hidden state, input and the predicted sequence.\n",
    "    hidden        = net.init_hidden()\n",
    "    init_input    = seq_to_onehot(init_seq).to(device)\n",
    "    predicted_seq = init_seq\n",
    "\n",
    "    # Use initial string to \"build up\" hidden state.\n",
    "    for t in range(len(init_seq) - 1):\n",
    "        output, hidden = net(init_input[t], hidden)\n",
    "        \n",
    "    # Set current input as the last character of the initial string.\n",
    "    input = init_input[-1]\n",
    "    \n",
    "    # Predict more characters after the initial string.\n",
    "    for t in range(predicted_len):\n",
    "        # Get the current output and hidden state.\n",
    "        output, hidden = net(input, hidden)\n",
    "        \n",
    "        # Sample from the output as a multinomial distribution.\n",
    "        predicted_index = torch.multinomial(output.view(-1).exp(), 1)[0]\n",
    "        \n",
    "        # Add predicted character to the sequence and use it as next input.\n",
    "        predicted_char  = all_chars[predicted_index]\n",
    "        predicted_seq  += predicted_char\n",
    "        \n",
    "        # Use the predicted character to generate the input of next round.\n",
    "        input = seq_to_onehot(predicted_char)[0].to(device)\n",
    "\n",
    "    return predicted_seq"
   ]
  },
  {
   "cell_type": "markdown",
   "metadata": {},
   "source": [
    "#### Training Procedure"
   ]
  },
  {
   "cell_type": "code",
   "execution_count": null,
   "metadata": {
    "ExecuteTime": {
     "end_time": "2019-05-15T00:38:13.556497Z",
     "start_time": "2019-05-14T23:57:22.478732Z"
    },
    "scrolled": true
   },
   "outputs": [
    {
     "name": "stdout",
     "output_type": "stream",
     "text": [
      "iter:99/13000 loss:3.26717209815979\n",
      "generated sequence: Wdrke ges ott dc;\n",
      "ioalo'nrtsios ihooha nelcyeFy t cy mas\n",
      "enoyolm mgiys oyams twlHy t'nlr ume  ay lbGG\n",
      "\n",
      "iter:199/13000 loss:2.9296321868896484\n",
      "generated sequence: Woirs-th Uofanousetan shof' me grateqk me thUn maln I T:\n",
      "Iyhe tre Fhee thelseees Gfathoen he lOate ya\n",
      "\n",
      "iter:299/13000 loss:2.6376547813415527\n",
      "generated sequence: WhoroJite the mell sonl-, the the Kom duwhe:\n",
      "Hdala h sho rid?\n",
      "Nouhewe ree.\n",
      "\n",
      "CSRUand\n",
      "Mwaind pisne gy w\n",
      "\n",
      "iter:399/13000 loss:2.5308921337127686\n",
      "generated sequence: Wat thilr thin full gom wivuwlthes an; the thatnivruth whe Gin I tousf\n",
      "By t I Ire than\n",
      "\n",
      "URELIO:\n",
      "whene\n",
      "\n",
      "iter:499/13000 loss:2.4763379096984863\n",
      "generated sequence: Wouer shan foNd IURt tull myenivingy ingans, mouscel.\n",
      "\n",
      "mIAnget, anl barndat sth,rs on ort dot mangt b\n",
      "\n",
      "iter:599/13000 loss:2.410921335220337\n",
      "generated sequence: Whegr ve mag I barcerte fy sut poed dotis fo mat he prat,\n",
      "Whe hath?\n",
      "\n",
      "Thoo I loUgn thUATLBus thres mag\n",
      "\n",
      "iter:699/13000 loss:2.3564884662628174\n",
      "generated sequence: Who hy brouu thap uof ilckerfor nouthenitMyh manl hit thing; Rors us, Sheagh bllorh.\n",
      "Oghendeldst eld \n",
      "\n",
      "iter:799/13000 loss:2.3332836627960205\n",
      "generated sequence: Wot withentay\n",
      "wio's, wontit he ofoud, whes my\n",
      "\n",
      "cow towand were thon hant;\n",
      "Tho.\n",
      "\n",
      "Pouse delot nodems th\n",
      "\n",
      "iter:899/13000 loss:2.336106061935425\n",
      "generated sequence: Whesths\n",
      "Veall chan sis at tharter will,\n",
      "Thrar: sof\n",
      "Hysedce ne the day can, the nocarn\n",
      "Bris hameod lom\n",
      "\n",
      "iter:999/13000 loss:2.2473888397216797\n",
      "generated sequence: Weae thaderdell, I I are yreem,\n",
      "I hean my have yend ppe hehaulasf\n",
      "Nose of.\n",
      "\n",
      "Far.\n",
      "I man hiid:\n",
      "Briss wo\n",
      "\n",
      "iter:1099/13000 loss:2.294679880142212\n",
      "generated sequence: WAUK:\n",
      "Pings. higltir misbeng' aas ace, he sele par thenk shigce\n",
      "'n\n",
      "tigpene dORUS:\n",
      "Ale to urte ind mel\n",
      "\n",
      "iter:1199/13000 loss:2.2539258003234863\n",
      "generated sequence: Watllds not:\n",
      "Is?\n",
      "\n",
      "CORG RIARLANG:\n",
      "Bere hotshy nomy;o dash, lesssen,\n",
      "Norter stithisst,\n",
      "Not toin of sogk\n",
      "\n",
      "iter:1299/13000 loss:2.224483013153076\n",
      "generated sequence: Weap. nard,\n",
      "I haker, andr iy tenobre davirall nongerree hear.\n",
      "\n",
      "KY:\n",
      "\n",
      "MIUG ARCKIIInd liver tin; uf co b\n",
      "\n",
      "iter:1399/13000 loss:2.201810598373413\n",
      "generated sequence: Whanch my thes and which\n",
      "\n",
      "GUS:\n",
      "Shas hich san le thourle phen mbarer alcpen thours, amous aneepn chast\n",
      "\n",
      "iter:1499/13000 loss:2.2126986980438232\n",
      "generated sequence: WAUK:\n",
      "Feare\n",
      "The by welly askeliut Bast musk? han my the whit;\n",
      "The: lupake wert mace the king themelar\n",
      "\n",
      "iter:1599/13000 loss:2.1897616386413574\n",
      "generated sequence: Wumseses the.\n",
      "\n",
      "FBATELIN:\n",
      "Thou thest gisser lens lown It cond:\n",
      "Yous satealt nont hes?\n",
      "Ho sent\n",
      "Losse.\n",
      "D\n",
      "\n",
      "iter:1699/13000 loss:2.192718982696533\n",
      "generated sequence: Wor piker we foUk, be jeave binch youldte in for----\n",
      "Aue shall icvect,\n",
      "No, lee, insliin.\n",
      "\n",
      "Cis lore an\n",
      "\n",
      "iter:1799/13000 loss:2.2086739540100098\n",
      "generated sequence: Waor upirn; is I myy, lich trigh thound Herceserly chadage, your the lever.\n",
      "\n",
      "Peomirserslstn shee, a o\n",
      "\n",
      "iter:1899/13000 loss:2.1447856426239014\n",
      "generated sequence: Wit he brech tit; sovamed Inruss.\n",
      "\n",
      "BEN:\n",
      "With Mepieest heral band gespeld,\n",
      "With\n",
      "Ouent all'ld plat tos \n",
      "\n",
      "iter:1999/13000 loss:2.132835865020752\n",
      "generated sequence: WvG Lee to;rifey mn! with may we to in orco with to wome our in Dus lodt yong.\n",
      "Wush our kneede crick \n",
      "\n",
      "iter:2099/13000 loss:2.140172004699707\n",
      "generated sequence: Wid to the bund of whend have geecy cabliot.\n",
      "Spear than Lorno.\n",
      "My of there Some speges And nauge ted \n",
      "\n",
      "iter:2199/13000 loss:2.1094882488250732\n",
      "generated sequence: War, bearture, thand thea, and bient of dint dedt sticksslll\n",
      "Cnuthy hall buck not not hepepth this th\n",
      "\n",
      "iter:2299/13000 loss:2.107175827026367\n",
      "generated sequence: Wist! a hirself me thene, me gemelf! ang he did thy vichathord, the cans to fade freed thrace, een ha\n",
      "\n",
      "iter:2399/13000 loss:2.123856782913208\n",
      "generated sequence: Whang brablesselst you as of liveshacm, ovang?\n",
      "\n",
      "DUMO:\n",
      "My greessings by gulm, thou you and hoven your \n",
      "\n",
      "iter:2499/13000 loss:2.116586208343506\n",
      "generated sequence: Wat the,\n",
      "To gromen\n",
      "And, math love Lis.\n",
      "\n",
      "LUg:\n",
      "Bust dor; then nothertin\n",
      "theenss.\n",
      "\n",
      "LALEELOMBEBEY:\n",
      "Os ont\n",
      "\n",
      "iter:2599/13000 loss:2.1388487815856934\n",
      "generated sequence: Was macs int.\n",
      "\n",
      "NAN:\n",
      "The rear-bret.\n",
      "Fowd an thy wite come thist be us slepom theen be mone theeme, a p\n",
      "\n",
      "iter:2699/13000 loss:2.126326560974121\n",
      "generated sequence: Wo prosth to give had of Rove and hard ore sall.\n",
      "\n",
      "JUGS:\n",
      "\n",
      "PO:\n",
      "Yaper bach no ward sir, are; be.\n",
      "\n",
      "For th\n",
      "\n",
      "iter:2799/13000 loss:2.12256121635437\n",
      "generated sequence: Wert, The kisted, and if Vill these gris they, whan:\n",
      "Theo,\n",
      "To mur, Mat reater to I gordst sFWOLCUT:\n",
      "T\n",
      "\n",
      "iter:2899/13000 loss:2.424170970916748\n",
      "generated sequence: Wis thererefes he con 'COUCEUK:\n",
      "Wes his gor.\n",
      "\n",
      "ILAnSALS:\n",
      "CG\n",
      "GEC:\n",
      "Show drald the'th four menaarinlar; b\n",
      "\n",
      "iter:2999/13000 loss:2.223790168762207\n",
      "generated sequence: Wher orioman't ary.\n",
      "Gol\n",
      "thow in maritesreraliorurindeefatero.\n",
      "\n",
      "CADULHENIO:\n",
      "Why thoaln.\n",
      "\n",
      "Ther nrut?\n",
      "\n",
      "L\n",
      "\n",
      "iter:3099/13000 loss:2.1799063682556152\n",
      "generated sequence: Wor drith wour. Yath, and blian.\n",
      "\n",
      "IUMIL GP:\n",
      "Cuncearous the and lince,\n",
      "-n Bonint's forbime sudut not, \n",
      "\n",
      "iter:3199/13000 loss:2.1212596893310547\n",
      "generated sequence: With;\n",
      "I'Snarding no ry you and ondo ithy ders, Hund, havlorter hory cor in, and alemant meals!\n",
      "\n",
      "HEL:\n",
      "\n",
      "\n"
     ]
    }
   ],
   "source": [
    "# Number of iterations.\n",
    "iters       = 13000  # Number of training iterations.\n",
    "print_iters = 100    # Number of iterations for each log printing.\n",
    "\n",
    "# The loss variables.\n",
    "all_losses = []\n",
    "loss_sum   = 0\n",
    "\n",
    "# Initialize the optimizer and the loss function.\n",
    "opt       = torch.optim.Adam(net.parameters(), lr=0.005)\n",
    "loss_func = nn.CrossEntropyLoss()\n",
    "\n",
    "# Training procedure.\n",
    "for i in range(iters):\n",
    "    input, target = get_input_and_target()            # Fetch input and target.\n",
    "    input, target = input.to(device), target.to(device) # Move to GPU memory.\n",
    "    loss      = train_step(net, opt, input, target)   # Calculate the loss.\n",
    "    loss_sum += loss                                  # Accumulate the loss.\n",
    "\n",
    "    # Print the log.\n",
    "    if i % print_iters == print_iters - 1:\n",
    "        print('iter:{}/{} loss:{}'.format(i, iters, loss_sum / print_iters))\n",
    "        print('generated sequence: {}\\n'.format(eval_step(net)))\n",
    "              \n",
    "        # Track the loss.\n",
    "        all_losses.append(loss_sum / print_iters)\n",
    "        loss_sum = 0"
   ]
  },
  {
   "cell_type": "markdown",
   "metadata": {},
   "source": [
    "#### Training Loss Curve"
   ]
  },
  {
   "cell_type": "code",
   "execution_count": null,
   "metadata": {
    "ExecuteTime": {
     "end_time": "2019-05-15T00:38:13.728474Z",
     "start_time": "2019-05-15T00:38:13.559531Z"
    }
   },
   "outputs": [],
   "source": [
    "plt.xlabel('iters')\n",
    "plt.ylabel('loss')\n",
    "all_losses = [loss.item() for loss in all_losses]\n",
    "plt.plot(np.array(all_losses))\n",
    "plt.show()"
   ]
  },
  {
   "cell_type": "markdown",
   "metadata": {},
   "source": [
    "#### Evaluation: A Sample of Generated Sequence"
   ]
  },
  {
   "cell_type": "code",
   "execution_count": null,
   "metadata": {
    "ExecuteTime": {
     "end_time": "2019-05-15T03:10:52.267837Z",
     "start_time": "2019-05-15T03:10:51.986701Z"
    },
    "scrolled": true
   },
   "outputs": [],
   "source": [
    "print(eval_step(net, predicted_len=600))"
   ]
  },
  {
   "cell_type": "markdown",
   "metadata": {},
   "source": [
    "### Method\n",
    "Added more hidden states to see if the output was sensible in earlier iterations.\n",
    "\n",
    "### Evaluation"
   ]
  }
 ],
 "metadata": {
  "kernelspec": {
   "display_name": "Python 3 (ipykernel)",
   "language": "python",
   "name": "python3"
  },
  "language_info": {
   "codemirror_mode": {
    "name": "ipython",
    "version": 3
   },
   "file_extension": ".py",
   "mimetype": "text/x-python",
   "name": "python",
   "nbconvert_exporter": "python",
   "pygments_lexer": "ipython3",
   "version": "3.9.5"
  },
  "toc": {
   "base_numbering": 1,
   "nav_menu": {},
   "number_sections": true,
   "sideBar": true,
   "skip_h1_title": false,
   "title_cell": "Table of Contents",
   "title_sidebar": "Contents",
   "toc_cell": false,
   "toc_position": {},
   "toc_section_display": true,
   "toc_window_display": false
  }
 },
 "nbformat": 4,
 "nbformat_minor": 1
}
