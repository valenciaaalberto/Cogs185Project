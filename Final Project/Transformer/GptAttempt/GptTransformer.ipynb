{
 "cells": [
  {
   "cell_type": "code",
   "execution_count": 17,
   "id": "c34c2de2",
   "metadata": {},
   "outputs": [],
   "source": [
    "import torch\n",
    "import torch.nn as nn\n",
    "import torch.optim as optim\n",
    "import string\n",
    "import random\n",
    "import math"
   ]
  },
  {
   "cell_type": "markdown",
   "id": "7e76350c",
   "metadata": {},
   "source": [
    "### Select Device"
   ]
  },
  {
   "cell_type": "code",
   "execution_count": 18,
   "id": "e2a87fdb",
   "metadata": {},
   "outputs": [
    {
     "name": "stdout",
     "output_type": "stream",
     "text": [
      "cuda:0\n"
     ]
    }
   ],
   "source": [
    "device = torch.device(\"cuda:0\" if torch.cuda.is_available() else \"cpu\")\n",
    "print(device)"
   ]
  },
  {
   "cell_type": "markdown",
   "id": "8d3de089",
   "metadata": {},
   "source": [
    "### Define Transformer Achitecture"
   ]
  },
  {
   "cell_type": "code",
   "execution_count": 19,
   "id": "b0ff0151",
   "metadata": {},
   "outputs": [],
   "source": [
    "class PositionalEncoding(nn.Module):\n",
    "    def __init__(self, embed_dim, dropout=0.1, max_len=5000):\n",
    "        super(PositionalEncoding, self).__init__()\n",
    "        self.dropout = nn.Dropout(p=dropout)\n",
    "\n",
    "        pe = torch.zeros(max_len, embed_dim)\n",
    "        position = torch.arange(0, max_len, dtype=torch.float).unsqueeze(1)\n",
    "        div_term = torch.exp(torch.arange(0, embed_dim, 2).float() * (-math.log(10000.0) / embed_dim))\n",
    "        pe[:, 0::2] = torch.sin(position * div_term)\n",
    "        pe[:, 1::2] = torch.cos(position * div_term)\n",
    "        pe = pe.unsqueeze(0).transpose(0, 1)\n",
    "        self.register_buffer('pe', pe)\n",
    "\n",
    "    def forward(self, x):\n",
    "        x = x + self.pe[:x.size(0), :]\n",
    "        return self.dropout(x)\n",
    "\n",
    "class TransformerModel(nn.Module):\n",
    "    def __init__(self, input_dim, embed_dim, nhead, nhid, nlayers, output_dim, dropout=0.5):\n",
    "        super(TransformerModel, self).__init__()\n",
    "        self.model_type = 'Transformer'\n",
    "        self.embed_dim = embed_dim\n",
    "        self.pos_encoder = PositionalEncoding(embed_dim, dropout)\n",
    "        self.encoder = nn.Embedding(input_dim, embed_dim)\n",
    "        self.transformer = nn.Transformer(embed_dim, nhead, nlayers, nlayers, nhid, dropout)\n",
    "        self.decoder = nn.Linear(embed_dim, output_dim)\n",
    "        \n",
    "        self.init_weights()\n",
    "        \n",
    "    def init_weights(self):\n",
    "        initrange = 0.1\n",
    "        self.encoder.weight.data.uniform_(-initrange, initrange)\n",
    "        self.decoder.bias.data.zero_()\n",
    "        self.decoder.weight.data.uniform_(-initrange, initrange)\n",
    "        \n",
    "    def forward(self, src, src_mask):\n",
    "        src = self.encoder(src).to(device) * math.sqrt(self.embed_dim)\n",
    "        src = self.pos_encoder(src)\n",
    "        output = self.transformer(src, src, src_mask)\n",
    "        output = self.decoder(output)\n",
    "        return output"
   ]
  },
  {
   "cell_type": "markdown",
   "id": "41a91c6c",
   "metadata": {},
   "source": [
    "### Process Input"
   ]
  },
  {
   "cell_type": "code",
   "execution_count": 20,
   "id": "60226d7e",
   "metadata": {},
   "outputs": [],
   "source": [
    "all_chars = string.printable\n",
    "n_chars = len(all_chars)\n",
    "file = open('shakespeare.txt').read()\n",
    "file_len = len(file)"
   ]
  },
  {
   "cell_type": "markdown",
   "id": "840b1627",
   "metadata": {},
   "source": [
    "### Encode Input"
   ]
  },
  {
   "cell_type": "code",
   "execution_count": 21,
   "id": "3c98568c",
   "metadata": {},
   "outputs": [],
   "source": [
    "def get_random_seq():\n",
    "    seq_len = 128  # The length of an input sequence.\n",
    "    start_index = random.randint(0, file_len - seq_len)\n",
    "    end_index = start_index + seq_len + 1\n",
    "    return file[start_index:end_index]\n",
    "\n",
    "def seq_to_index(seq):\n",
    "    tensor = torch.zeros(len(seq), dtype=torch.long)\n",
    "    for t, char in enumerate(seq):\n",
    "        tensor[t] = all_chars.index(char) + 1\n",
    "    return tensor\n",
    "\n",
    "def get_input_and_target():\n",
    "    seq = get_random_seq()\n",
    "    input = seq_to_index(seq[:-1])  # Input is represented in index.\n",
    "    # input = seq_to_onehot(seq[:-1])\n",
    "    target = seq_to_index(seq[1:])  # Target is represented in index.\n",
    "    return input, target\n",
    "\n",
    "def generate_square_subsequent_mask(sz):\n",
    "    mask = torch.triu(torch.ones(sz, sz) == 1).transpose(0, 1)\n",
    "    mask = mask.float().masked_fill(mask == 0, float('-inf')).masked_fill(mask == 1, float(0.0))\n",
    "    return mask"
   ]
  },
  {
   "cell_type": "markdown",
   "id": "8c6f5038",
   "metadata": {},
   "source": [
    "### Function for Generating Text"
   ]
  },
  {
   "cell_type": "code",
   "execution_count": 22,
   "id": "befed9ad",
   "metadata": {},
   "outputs": [],
   "source": [
    "def generate_text(model,target,start_seq='Wha', gen_len=10,temperature=1.0):\n",
    "    model.eval()  # Set the model to evaluation mode\n",
    "    \n",
    "    indices = \"\"\n",
    "    tensor = start_seq[0]\n",
    "    for char in tensor:\n",
    "        indices += all_chars[char-1] \n",
    "        \n",
    "    input_seq = start_seq\n",
    "    seen_output = []\n",
    "    \n",
    "    generated_text = start_seq\n",
    "    \n",
    "    for _ in range(gen_len):\n",
    "        with torch.no_grad():\n",
    "            output = model(input_seq, target)\n",
    "        \n",
    "        # Get the last output and convert to probabilities\n",
    "        next_char_logits = output[-1, 0, :] # Shape: (output_dim)\n",
    "        next_char_probs = torch.softmax(next_char_logits, dim=-1)/temperature\n",
    "\n",
    "        predicted_char_index = torch.argmax(next_char_probs)\n",
    "        predicted_char = all_chars[predicted_char_index]\n",
    "        \n",
    "        indices += predicted_char\n",
    "        \n",
    "        # Append the next character to the input sequence\n",
    "        next_char_tensor = torch.tensor([predicted_char_index], dtype=torch.long).unsqueeze(1).to(device)\n",
    "        input_seq = torch.cat([input_seq, next_char_tensor], dim=1)[:, 1:]\n",
    "    \n",
    "    return indices"
   ]
  },
  {
   "cell_type": "code",
   "execution_count": 23,
   "id": "f98f852b",
   "metadata": {
    "scrolled": true
   },
   "outputs": [
    {
     "data": {
      "text/plain": [
       "TransformerModel(\n",
       "  (pos_encoder): PositionalEncoding(\n",
       "    (dropout): Dropout(p=0.2, inplace=False)\n",
       "  )\n",
       "  (encoder): Embedding(512, 128)\n",
       "  (transformer): Transformer(\n",
       "    (encoder): TransformerEncoder(\n",
       "      (layers): ModuleList(\n",
       "        (0-1): 2 x TransformerEncoderLayer(\n",
       "          (self_attn): MultiheadAttention(\n",
       "            (out_proj): NonDynamicallyQuantizableLinear(in_features=128, out_features=128, bias=True)\n",
       "          )\n",
       "          (linear1): Linear(in_features=128, out_features=256, bias=True)\n",
       "          (dropout): Dropout(p=0.2, inplace=False)\n",
       "          (linear2): Linear(in_features=256, out_features=128, bias=True)\n",
       "          (norm1): LayerNorm((128,), eps=1e-05, elementwise_affine=True)\n",
       "          (norm2): LayerNorm((128,), eps=1e-05, elementwise_affine=True)\n",
       "          (dropout1): Dropout(p=0.2, inplace=False)\n",
       "          (dropout2): Dropout(p=0.2, inplace=False)\n",
       "        )\n",
       "      )\n",
       "      (norm): LayerNorm((128,), eps=1e-05, elementwise_affine=True)\n",
       "    )\n",
       "    (decoder): TransformerDecoder(\n",
       "      (layers): ModuleList(\n",
       "        (0-1): 2 x TransformerDecoderLayer(\n",
       "          (self_attn): MultiheadAttention(\n",
       "            (out_proj): NonDynamicallyQuantizableLinear(in_features=128, out_features=128, bias=True)\n",
       "          )\n",
       "          (multihead_attn): MultiheadAttention(\n",
       "            (out_proj): NonDynamicallyQuantizableLinear(in_features=128, out_features=128, bias=True)\n",
       "          )\n",
       "          (linear1): Linear(in_features=128, out_features=256, bias=True)\n",
       "          (dropout): Dropout(p=0.2, inplace=False)\n",
       "          (linear2): Linear(in_features=256, out_features=128, bias=True)\n",
       "          (norm1): LayerNorm((128,), eps=1e-05, elementwise_affine=True)\n",
       "          (norm2): LayerNorm((128,), eps=1e-05, elementwise_affine=True)\n",
       "          (norm3): LayerNorm((128,), eps=1e-05, elementwise_affine=True)\n",
       "          (dropout1): Dropout(p=0.2, inplace=False)\n",
       "          (dropout2): Dropout(p=0.2, inplace=False)\n",
       "          (dropout3): Dropout(p=0.2, inplace=False)\n",
       "        )\n",
       "      )\n",
       "      (norm): LayerNorm((128,), eps=1e-05, elementwise_affine=True)\n",
       "    )\n",
       "  )\n",
       "  (decoder): Linear(in_features=128, out_features=100, bias=True)\n",
       ")"
      ]
     },
     "execution_count": 23,
     "metadata": {},
     "output_type": "execute_result"
    }
   ],
   "source": [
    "input_dim = 512\n",
    "embed_dim = 128\n",
    "nhead = 2\n",
    "nhid = 256\n",
    "nlayers = 2\n",
    "output_dim = len(all_chars)\n",
    "dropout = 0.2\n",
    "\n",
    "model = TransformerModel(input_dim, embed_dim, nhead, nhid, nlayers, output_dim, dropout)\n",
    "model.to(device)"
   ]
  },
  {
   "cell_type": "code",
   "execution_count": 25,
   "id": "9769d753",
   "metadata": {},
   "outputs": [
    {
     "name": "stdout",
     "output_type": "stream",
     "text": [
      "training\n",
      "Epoch 1, Loss: 2.9946556091308594\n",
      "training\n",
      "Epoch 2, Loss: 2.6445155143737793\n",
      "training\n",
      "Epoch 3, Loss: 2.5839550495147705\n",
      "training\n",
      "Epoch 4, Loss: 2.528512477874756\n",
      "training\n",
      "Epoch 5, Loss: 2.3386452198028564\n",
      "training\n",
      "Epoch 6, Loss: 1.6454631090164185\n",
      "training\n",
      "Epoch 7, Loss: 0.9995535612106323\n",
      "training\n",
      "Epoch 8, Loss: 0.7287405729293823\n",
      "training\n",
      "Epoch 9, Loss: 0.6042861938476562\n",
      "training\n",
      "Epoch 10, Loss: 0.5536612272262573\n",
      "training\n",
      "Epoch 11, Loss: 0.5230005383491516\n",
      "training\n",
      "Epoch 12, Loss: 0.49640482664108276\n",
      "training\n",
      "Epoch 13, Loss: 0.4817477762699127\n",
      "training\n",
      "Epoch 14, Loss: 0.47098779678344727\n",
      "training\n",
      "Epoch 15, Loss: 0.455612450838089\n",
      "training\n",
      "Epoch 16, Loss: 0.4659588634967804\n",
      "training\n",
      "Epoch 17, Loss: 0.4309072494506836\n",
      "training\n",
      "Epoch 18, Loss: 0.44946372509002686\n",
      "training\n",
      "Epoch 19, Loss: 0.4321606457233429\n",
      "training\n",
      "Epoch 20, Loss: 0.4404142200946808\n"
     ]
    }
   ],
   "source": [
    "criterion = nn.CrossEntropyLoss()\n",
    "optimizer = optim.Adam(model.parameters(), lr=0.001)\n",
    "iters = 200\n",
    "\n",
    "epochs = 20\n",
    "for epoch in range(epochs):\n",
    "    model.train()\n",
    "    total_loss = 0.\n",
    "    for i in range(iters):  # Adjust the number of batches\n",
    "        input, target = get_input_and_target()\n",
    "        # Add batch dimension, shape: (seq_len, batch_size=1)\n",
    "        input = input.unsqueeze(1)\n",
    "        target = target.unsqueeze(1)\n",
    "        input = input.to(device)\n",
    "        target = target.to(device)\n",
    "        \n",
    "        src_mask = generate_square_subsequent_mask(input.size(0)).to(input.device)\n",
    "        \n",
    "        optimizer.zero_grad()\n",
    "        # print(\"input shape\",input.shape)\n",
    "        # print(\"src mask shape\",src_mask.shape)\n",
    "        # input = input.permute(1,2,0)\n",
    "        # print(\"input shape\",input.shape)\n",
    "        # print(\"src mask shape\",src_mask.shape)\n",
    "        output = model(input, src_mask)\n",
    "        \n",
    "        # Reshape output to (seq_len * batch_size, output_dim) and target to (seq_len * batch_size)\n",
    "        output = output.view(-1, output_dim)\n",
    "        target = target.view(-1)\n",
    "        \n",
    "        loss = criterion(output, target)\n",
    "        total_loss += loss\n",
    "        loss.backward()\n",
    "        optimizer.step()\n",
    "        if i == epochs - 1:\n",
    "            print(\"training\")\n",
    "    print(f'Epoch {epoch+1}, Loss: {total_loss / iters}')\n",
    "#     print(\"Generated output:\", generate_text(model))"
   ]
  },
  {
   "cell_type": "code",
   "execution_count": 27,
   "id": "4ce2b179",
   "metadata": {},
   "outputs": [
    {
     "data": {
      "text/plain": [
       "torch.Size([128, 128])"
      ]
     },
     "execution_count": 27,
     "metadata": {},
     "output_type": "execute_result"
    }
   ],
   "source": [
    "src_mask.shape"
   ]
  },
  {
   "cell_type": "code",
   "execution_count": null,
   "id": "39d0da39",
   "metadata": {},
   "outputs": [],
   "source": [
    "# total_loss = 0\n",
    "# iters = 500\n",
    "# for i in range(iters):  # Adjust the number of batches\n",
    "#     input, target = get_input_and_target()\n",
    "#     # Add batch dimension, shape: (seq_len, batch_size=1)\n",
    "#     input = input.unsqueeze(1)\n",
    "#     target = target.unsqueeze(1)\n",
    "\n",
    "#     src_mask = generate_square_subsequent_mask(input.size(0)).to(input.device)\n",
    "\n",
    "#     optimizer.zero_grad()\n",
    "#     output = model(input, src_mask)\n",
    "\n",
    "#     # Reshape output to (seq_len * batch_size, output_dim) and target to (seq_len * batch_size)\n",
    "#     output = output.view(-1, output_dim)\n",
    "#     target = target.view(-1)\n",
    "\n",
    "#     loss = criterion(output, target)\n",
    "#     loss.backward()\n",
    "#     optimizer.step()\n",
    "\n",
    "#     total_loss += loss.item()\n",
    "#     print(f'Epoch {epoch+1}, Loss: {total_loss / 100}')"
   ]
  },
  {
   "cell_type": "code",
   "execution_count": null,
   "id": "29b09fb5",
   "metadata": {},
   "outputs": [],
   "source": [
    "# # Generate a text sequence starting with a given seed\n",
    "# seed_text = \"The\"\n",
    "# generated_text = generate_text(model, seed_text, max_len=500)\n",
    "# print(generated_text)\n",
    "rand_input = get_random_seq() \n",
    "print(\"Input\",rand_input)\n",
    "print(\"Output\")\n",
    "print(generate_text(model, rand_input, max_len=100))"
   ]
  },
  {
   "cell_type": "code",
   "execution_count": null,
   "id": "13461773",
   "metadata": {},
   "outputs": [],
   "source": []
  }
 ],
 "metadata": {
  "kernelspec": {
   "display_name": "Python 3 (ipykernel)",
   "language": "python",
   "name": "python3"
  },
  "language_info": {
   "codemirror_mode": {
    "name": "ipython",
    "version": 3
   },
   "file_extension": ".py",
   "mimetype": "text/x-python",
   "name": "python",
   "nbconvert_exporter": "python",
   "pygments_lexer": "ipython3",
   "version": "3.9.5"
  }
 },
 "nbformat": 4,
 "nbformat_minor": 5
}
